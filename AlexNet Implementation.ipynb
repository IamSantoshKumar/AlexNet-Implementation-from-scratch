{
 "cells": [
  {
   "cell_type": "code",
   "execution_count": 1,
   "id": "ff788534",
   "metadata": {},
   "outputs": [],
   "source": [
    "import torch\n",
    "import torch.nn as nn\n",
    "import torch.nn.functional as F\n",
    "import warnings\n",
    "warnings.filterwarnings('ignore')"
   ]
  },
  {
   "cell_type": "code",
   "execution_count": 3,
   "id": "9f6e1bfd",
   "metadata": {},
   "outputs": [],
   "source": [
    "#AlexNet from scratch implementation\n",
    "#S\n",
    "\n",
    "class AlexNet(nn.Module):\n",
    "    def __init__(self):\n",
    "        super(AlexNet, self).__init__()\n",
    "        self.conv1 = nn.Conv2d(in_channels=3, out_channels=96, kernel_size = (11, 11), stride = (4, 4), padding=0)\n",
    "        self.conv2 = nn.Conv2d(in_channels=96, out_channels=256, kernel_size = (5, 5), stride = (1, 1), padding=2)\n",
    "        self.conv3 = nn.Conv2d(in_channels=256, out_channels=384, kernel_size = (3, 3), stride = (1, 1), padding=1)\n",
    "        self.conv4 = nn.Conv2d(in_channels=384, out_channels=384, kernel_size = (3, 3), stride = (1, 1), padding=1)\n",
    "        self.conv5 = nn.Conv2d(in_channels=384, out_channels=256, kernel_size = (3, 3), stride = (1, 1), padding=1)\n",
    "        self.max_pool = nn.MaxPool2d(kernel_size = (3, 3), stride = (2, 2))\n",
    "        self.dropout = nn.Dropout(0.5)\n",
    "        self.relu = nn.ReLU(inplace=True)\n",
    "        self.linear1 = nn.Linear(in_features=256*6*6, out_features=4096)\n",
    "        self.linear2 = nn.Linear(in_features=4096, out_features=3)\n",
    "    \n",
    "    def forward(self, image):\n",
    "        X = self.relu(self.conv1(image))\n",
    "        X = self.max_pool(X)\n",
    "        X = self.relu(self.conv2(X))\n",
    "        X = self.max_pool(X)\n",
    "        X = self.relu(self.conv3(X))\n",
    "        X = self.relu(self.conv4(X))\n",
    "        X = self.relu(self.conv5(X))\n",
    "        X = self.max_pool(X)\n",
    "        X = self.dropout(X)\n",
    "        X = X.view(-1, 256*6*6)\n",
    "        X = self.relu(self.linear1(X))\n",
    "        X = self.dropout(X)\n",
    "        X = self.linear2(X)\n",
    "        return X"
   ]
  },
  {
   "cell_type": "code",
   "execution_count": 5,
   "id": "c4c6a282",
   "metadata": {},
   "outputs": [
    {
     "name": "stdout",
     "output_type": "stream",
     "text": [
      "torch.Size([1, 3])\n"
     ]
    }
   ],
   "source": [
    "image = torch.randn(1, 3, 227, 227)\n",
    "model = AlexNet()\n",
    "output = model(image)\n",
    "print(output.shape)"
   ]
  },
  {
   "cell_type": "code",
   "execution_count": 6,
   "id": "ee6a6e41",
   "metadata": {},
   "outputs": [
    {
     "name": "stdout",
     "output_type": "stream",
     "text": [
      "No of trainable parameters: 41512323\n"
     ]
    }
   ],
   "source": [
    "print(f'No of trainable parameters: {sum([p.numel() for p in model.parameters() if p.requires_grad])}')"
   ]
  }
 ],
 "metadata": {
  "kernelspec": {
   "display_name": "Python 3",
   "language": "python",
   "name": "python3"
  },
  "language_info": {
   "codemirror_mode": {
    "name": "ipython",
    "version": 3
   },
   "file_extension": ".py",
   "mimetype": "text/x-python",
   "name": "python",
   "nbconvert_exporter": "python",
   "pygments_lexer": "ipython3",
   "version": "3.7.10"
  }
 },
 "nbformat": 4,
 "nbformat_minor": 5
}
